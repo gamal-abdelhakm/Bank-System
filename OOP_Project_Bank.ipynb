{
 "cells": [
  {
   "cell_type": "code",
   "execution_count": 6,
   "metadata": {},
   "outputs": [],
   "source": [
    "class User():\n",
    "    \n",
    "    def __init__ (self, name, age, gender):\n",
    "        self.name = name\n",
    "        self.age = age\n",
    "        self.gender = gender\n",
    "        \n",
    "    def show_details(self):\n",
    "        print(f'Name = {self.name}')\n",
    "        print(f'Age = {self.age}')\n",
    "        print(f'Gender = {self.gender}')\n",
    "        "
   ]
  },
  {
   "cell_type": "code",
   "execution_count": 7,
   "metadata": {},
   "outputs": [
    {
     "name": "stdout",
     "output_type": "stream",
     "text": [
      "Name = a\n",
      "Age = b\n",
      "Gender = c\n"
     ]
    }
   ],
   "source": [
    "man1 = User('a','b','c')\n",
    "man1.show_details()"
   ]
  },
  {
   "cell_type": "code",
   "execution_count": 21,
   "metadata": {},
   "outputs": [],
   "source": [
    "class Bank_Account (User):\n",
    "    \n",
    "    def __init__ (self, name, age, gender):\n",
    "        User.__init__ (self, name, age, gender)\n",
    "        self.balance=0\n",
    "            \n",
    "    def deposit(self,amount):\n",
    "        self.balance += amount\n",
    "    \n",
    "    def with_draw(self,amount):\n",
    "        if self.balance >= amount:\n",
    "            self.balance -= amount\n",
    "        else:\n",
    "            print('Not enough Money')\n",
    "    \n",
    "    def view_balance(self):\n",
    "        print(f'Balance = {self.balance}')\n",
    "    "
   ]
  },
  {
   "cell_type": "code",
   "execution_count": 22,
   "metadata": {},
   "outputs": [
    {
     "name": "stdout",
     "output_type": "stream",
     "text": [
      "Name = a\n",
      "Age = b\n",
      "Gender = c\n",
      "Balance = 500\n",
      "Balance = 450\n"
     ]
    }
   ],
   "source": [
    "man_account = Bank_Account('a','b','c')\n",
    "man_account.show_details()\n",
    "man_account.deposit(500)\n",
    "man_account.view_balance()\n",
    "man_account.with_draw(50)\n",
    "man_account.view_balance()"
   ]
  },
  {
   "cell_type": "code",
   "execution_count": null,
   "metadata": {},
   "outputs": [],
   "source": []
  }
 ],
 "metadata": {
  "kernelspec": {
   "display_name": "Python 3",
   "language": "python",
   "name": "python3"
  },
  "language_info": {
   "codemirror_mode": {
    "name": "ipython",
    "version": 3
   },
   "file_extension": ".py",
   "mimetype": "text/x-python",
   "name": "python",
   "nbconvert_exporter": "python",
   "pygments_lexer": "ipython3",
   "version": "3.7.6"
  }
 },
 "nbformat": 4,
 "nbformat_minor": 4
}
